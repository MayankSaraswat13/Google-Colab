{
  "nbformat": 4,
  "nbformat_minor": 0,
  "metadata": {
    "colab": {
      "provenance": [],
      "collapsed_sections": [],
      "include_colab_link": true
    },
    "kernelspec": {
      "name": "python3",
      "display_name": "Python 3"
    },
    "language_info": {
      "name": "python"
    }
  },
  "cells": [
    {
      "cell_type": "markdown",
      "metadata": {
        "id": "view-in-github",
        "colab_type": "text"
      },
      "source": [
        "<a href=\"https://colab.research.google.com/github/MayankSaraswat13/Google-Colab/blob/main/Ass_(Linear_Equation_Solver_Using_Gekko).ipynb\" target=\"_parent\"><img src=\"https://colab.research.google.com/assets/colab-badge.svg\" alt=\"Open In Colab\"/></a>"
      ]
    },
    {
      "cell_type": "code",
      "source": [
        "!pip install gekko"
      ],
      "metadata": {
        "colab": {
          "base_uri": "https://localhost:8080/"
        },
        "id": "KXdMHX659KOM",
        "outputId": "2007d90c-2bce-4d99-9cad-31dac04bb658"
      },
      "execution_count": null,
      "outputs": [
        {
          "output_type": "stream",
          "name": "stdout",
          "text": [
            "Collecting gekko\n",
            "  Downloading gekko-1.0.2-py3-none-any.whl (12.4 MB)\n",
            "\u001b[K     |████████████████████████████████| 12.4 MB 4.3 MB/s \n",
            "\u001b[?25hRequirement already satisfied: numpy>=1.8 in /usr/local/lib/python3.7/dist-packages (from gekko) (1.21.6)\n",
            "Installing collected packages: gekko\n",
            "Successfully installed gekko-1.0.2\n"
          ]
        }
      ]
    },
    {
      "cell_type": "code",
      "execution_count": null,
      "metadata": {
        "colab": {
          "base_uri": "https://localhost:8080/"
        },
        "id": "2GWv_CDe8_z_",
        "outputId": "0579ed09-ab28-458b-cfe9-93ac4990bdb9"
      },
      "outputs": [
        {
          "output_type": "stream",
          "name": "stdout",
          "text": [
            "[0.5] [-0.25]\n"
          ]
        }
      ],
      "source": [
        "from gekko import GEKKO\n",
        "m = GEKKO()            # create GEKKO model\n",
        "x = m.Var()            # define new variable, default=0\n",
        "y = m.Var()            # define new variable, default=0\n",
        "m.Equations([3*x+2*y==1, x+2*y==0])  # equations\n",
        "m.solve(disp=False)    # solve\n",
        "print(x.value,y.value) # print solution"
      ]
    }
  ]
}